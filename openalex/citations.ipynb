{
 "cells": [
  {
   "cell_type": "markdown",
   "metadata": {},
   "source": [
    "---\n",
    "layout: default\n",
    "title: Citation Analysis\n",
    "parent: OpenAlex\n",
    "nav_order: 1\n",
    "---"
   ]
  },
  {
   "cell_type": "markdown",
   "metadata": {},
   "source": [
    "# Citation Analysis\n",
    "\n",
    "The ability to perform in-depth citation analysis using OpenAlex's user interface is limited. By developing scripts that can gather results that cite, or are cited by, a set of publications, we enable a variety of approaches to research impact assessment and bibliometric analysis.  \n",
    "\n",
    "In this notebook, we will query the OpenAlex API to answer the following questions:  \n",
    "\n",
    "1. **How many works has a researcher (or a group of researchers) published?**\n",
    "2. **How many citations has a researcher (or a group of researchers) received in a given year?**\n",
    "3. **What are the most influential publications in a given research area? _(backward citation analysis)_**\n",
    "4. **Which countries/journals/authors cite my research most often? _(forward citation analysis)_**\n",
    "5. **How do citation rates differ between my organization's open access vs. non-open access publications?**"
   ]
  },
  {
   "cell_type": "markdown",
   "metadata": {},
   "source": [
    "## Assessing Citation/Work Counts of Researcher\n",
    "\n",
    "This can help an organization, department, or research institute track the citation rates of their researchers over time (an indicator of research engagement/impact).  \n",
    "\n",
    "### Steps\n",
    "\n",
    "Let's start by dividing the process into smaller, more manageable steps:  \n",
    "\n",
    "1. We need to get all the works published by the researcher\n",
    "2. We group the publications by year\n",
    "3. We count the total numbers of publications and citations each year\n",
    "\n",
    "### Input\n",
    "\n",
    "The only input we need is an identifier of the researcher in question and we opted for the researcher's OpenAlex ID. We can look up the OpenAlex ID of the researcher by searching the name of the researcher in the [OpenAlex landing page](https://openalex.org/).  "
   ]
  },
  {
   "cell_type": "code",
   "execution_count": 1,
   "metadata": {},
   "outputs": [],
   "source": [
    "SAVE_CSV = False  # flag to determine whether to save the output as a CSV file \n",
    "FIRST_NUM_ROWS = 25  # number of top items to display\n",
    "\n",
    "# input\n",
    "author_id = \"https://openalex.org/A5075441180\""
   ]
  },
  {
   "cell_type": "markdown",
   "metadata": {},
   "source": [
    "### Get all works published by researcher\n",
    "\n",
    "The first step is to build the query URL to get the data we need. In this case, we will use the [`works`](https://docs.openalex.org/api-entities/works) entity type.  \n",
    "\n",
    "> While [`authors`](https://docs.openalex.org/api-entities/authors) entity type offers direct access to citation and work metrics, we discoverd significant discrepencies between this aggregated author data and the data available on a work-by-work basis. After consulting with OpenAlex, we decided the most accurate approach (at the time of the writing of this notebook) would be to gather the data avaiable at the works level and aggregate this data ourselves.  \n",
    "\n",
    "Our search criteria are as follows:  \n",
    "- [`author.id`](https://docs.openalex.org/api-entities/works/work-object/authorship-object#author): Author of a work (OpenAlex ID), `author.id:https://openalex.org/A5075441180`\n",
    "\n",
    "Now we need to put the URL together from the following parameters:  \n",
    "- Starting point is the base URL of the OpenAlex API: `https://api.openalex.org/`\n",
    "- We append the entity type to it: `https://api.openalex.org/works`\n",
    "- All criteria need to go into the query parameter filter that is added after a question mark: `https://api.openalex.org/works?filter=`\n",
    "- To construct the filter value we take the criteria we specified and concatenate them using commas as separators: `https://api.openalex.org/works?filter=author.id:https://openalex.org/A5075441180&page=1&per-page=50`\n",
    "    - `page` and `per-page` are parameters for [pagination](https://docs.openalex.org/how-to-use-the-api/get-lists-of-entities/paging). Sometimes a query result is too big, it is a technique to break down the results and allow users to retrieve all the data in separate queries. "
   ]
  },
  {
   "cell_type": "code",
   "execution_count": 2,
   "metadata": {},
   "outputs": [],
   "source": [
    "import requests\n",
    "import pandas as pd\n",
    "\n",
    "\n",
    "def get_works_by_author(author_id, page=1, items_per_page=50):\n",
    "    # construct the api url with the given author id, page number, and items per page\n",
    "    url = f\"https://api.openalex.org/works?filter=author.id:{author_id}&page={page}&per-page={items_per_page}\"\n",
    "\n",
    "    # send a GET request to the api and parse the json response\n",
    "    response = requests.get(url)\n",
    "    json_data = response.json()\n",
    "\n",
    "    # convert the json response to a dataframe\n",
    "    df_json = pd.DataFrame.from_dict(json_data[\"results\"])\n",
    "\n",
    "    next_page = True\n",
    "    if df_json.empty: # check if the dataframe is empty (i.e., no more pages available)\n",
    "        next_page = False\n",
    "\n",
    "    # if there are more pages, recursively fetch the next page\n",
    "    if next_page:\n",
    "        df_json_next_page = get_works_by_author(author_id, page=page+1, items_per_page=items_per_page)\n",
    "        df_json = pd.concat([df_json, df_json_next_page])\n",
    "\n",
    "    return df_json"
   ]
  },
  {
   "cell_type": "code",
   "execution_count": 3,
   "metadata": {},
   "outputs": [],
   "source": [
    "def get_work_counts_by_year(df, author_id):\n",
    "    # check if the dataframe is empty or if 'publication_year' column is missing\n",
    "    if df.empty or \"publication_year\" not in df.columns:\n",
    "        return pd.DataFrame()\n",
    "\n",
    "    # count the occurrences of each publication year and convert to a dictionary\n",
    "    results = df[\"publication_year\"].value_counts().to_dict()\n",
    "\n",
    "    # create a dictionary with counts by year\n",
    "    records = {\"counts_by_year\": [{'year': year, 'works_by_count': count} for year, count in results.items()]}\n",
    "\n",
    "    # normalize the json data to create a dataframe\n",
    "    df_normalized = pd.json_normalize(records, \"counts_by_year\", [])\n",
    "\n",
    "    # group by year and sum the work counts\n",
    "    df_works = df_normalized.groupby([\"year\"])[\"works_by_count\"].sum()\n",
    "\n",
    "    # reset the index to convert the series to a dataframe\n",
    "    df_works = df_works.reset_index()\n",
    "\n",
    "    # add the 'author_id' to the dataframe\n",
    "    df_works[\"id\"] = author_id\n",
    "\n",
    "    # pivot the dataframe to have years as columns and works count as values\n",
    "    df_works = df_works.pivot(index=[\"id\"], columns=\"year\", values=[\"works_by_count\"])\n",
    "\n",
    "    return df_works"
   ]
  },
  {
   "cell_type": "code",
   "execution_count": 4,
   "metadata": {},
   "outputs": [],
   "source": [
    "def get_cited_by_counts_by_year(df, author_id):\n",
    "    # check if the dataframe is empty or if required columns are missing\n",
    "    if df.empty or \"id\" not in df.columns or \"counts_by_year\" not in df.columns:\n",
    "        return pd.DataFrame()\n",
    "\n",
    "    # convert the relevant columns to a list of dictionaries\n",
    "    records = df[[\"id\", \"counts_by_year\"]].to_dict(\"records\")\n",
    "\n",
    "    # normalize the json data to create a dataframe\n",
    "    df_normalized = pd.json_normalize(records, \"counts_by_year\", [])\n",
    "\n",
    "    # group by year and sum the citation counts\n",
    "    df_citations = df_normalized.groupby([\"year\"])[\"cited_by_count\"].sum()\n",
    "\n",
    "    # reset the index to convert the series to a dataframe\n",
    "    df_citations = df_citations.reset_index()\n",
    "\n",
    "    # add the 'author_id' to the dataframe\n",
    "    df_citations[\"id\"] = author_id\n",
    "\n",
    "    # pivot the dataframe to have years as columns and citation count as values\n",
    "    df_citations = df_citations.pivot(index=[\"id\"], columns=\"year\", values=[\"cited_by_count\"])\n",
    "\n",
    "    return df_citations"
   ]
  },
  {
   "cell_type": "code",
   "execution_count": 5,
   "metadata": {},
   "outputs": [],
   "source": [
    "df_works = get_works_by_author(author_id)\n",
    "if SAVE_CSV:\n",
    "    df_works.to_csv(f\"author_works.csv\", index=True)"
   ]
  },
  {
   "cell_type": "code",
   "execution_count": 6,
   "metadata": {},
   "outputs": [],
   "source": [
    "df_works_by_year = get_work_counts_by_year(df_works, author_id)\n",
    "\n",
    "# reindex the dataframe columns in sorted order\n",
    "df_works_by_year = df_works_by_year.reindex(sorted(df_works_by_year.columns), axis=1)\n",
    "\n",
    "# group the dataframe by 'id' and sum the values\n",
    "df_works_by_year = df_works_by_year.groupby([\"id\"]).sum()\n",
    "\n",
    "# flatten the multiple index columns to a single level\n",
    "df_works_by_year.columns = df_works_by_year.columns.get_level_values(1)\n",
    "\n",
    "# reset the index to convert the 'id' index back to a column\n",
    "df_works_by_year = df_works_by_year.reset_index()"
   ]
  },
  {
   "cell_type": "markdown",
   "metadata": {},
   "source": [
    "### Work counts by year\n",
    "\n",
    "Here, we create a dataframe that displays the researcher's publications (by year).  "
   ]
  },
  {
   "cell_type": "code",
   "execution_count": 7,
   "metadata": {},
   "outputs": [
    {
     "data": {
      "application/vnd.microsoft.datawrangler.viewer.v0+json": {
       "columns": [
        {
         "name": "index",
         "rawType": "int64",
         "type": "integer"
        },
        {
         "name": "id",
         "rawType": "object",
         "type": "string"
        },
        {
         "name": "2007",
         "rawType": "int64",
         "type": "integer"
        },
        {
         "name": "2008",
         "rawType": "int64",
         "type": "integer"
        },
        {
         "name": "2009",
         "rawType": "int64",
         "type": "integer"
        },
        {
         "name": "2010",
         "rawType": "int64",
         "type": "integer"
        },
        {
         "name": "2011",
         "rawType": "int64",
         "type": "integer"
        },
        {
         "name": "2012",
         "rawType": "int64",
         "type": "integer"
        },
        {
         "name": "2013",
         "rawType": "int64",
         "type": "integer"
        },
        {
         "name": "2014",
         "rawType": "int64",
         "type": "integer"
        },
        {
         "name": "2015",
         "rawType": "int64",
         "type": "integer"
        },
        {
         "name": "2016",
         "rawType": "int64",
         "type": "integer"
        },
        {
         "name": "2017",
         "rawType": "int64",
         "type": "integer"
        },
        {
         "name": "2018",
         "rawType": "int64",
         "type": "integer"
        },
        {
         "name": "2019",
         "rawType": "int64",
         "type": "integer"
        },
        {
         "name": "2020",
         "rawType": "int64",
         "type": "integer"
        },
        {
         "name": "2021",
         "rawType": "int64",
         "type": "integer"
        },
        {
         "name": "2022",
         "rawType": "int64",
         "type": "integer"
        },
        {
         "name": "2023",
         "rawType": "int64",
         "type": "integer"
        }
       ],
       "conversionMethod": "pd.DataFrame",
       "ref": "f1315700-f346-413c-aa03-c966ccf189f5",
       "rows": [
        [
         "0",
         "https://openalex.org/A5075441180",
         "1",
         "4",
         "5",
         "3",
         "2",
         "2",
         "6",
         "4",
         "4",
         "16",
         "10",
         "8",
         "6",
         "12",
         "6",
         "1",
         "1"
        ]
       ],
       "shape": {
        "columns": 18,
        "rows": 1
       }
      },
      "text/html": [
       "<div>\n",
       "<style scoped>\n",
       "    .dataframe tbody tr th:only-of-type {\n",
       "        vertical-align: middle;\n",
       "    }\n",
       "\n",
       "    .dataframe tbody tr th {\n",
       "        vertical-align: top;\n",
       "    }\n",
       "\n",
       "    .dataframe thead th {\n",
       "        text-align: right;\n",
       "    }\n",
       "</style>\n",
       "<table border=\"1\" class=\"dataframe\">\n",
       "  <thead>\n",
       "    <tr style=\"text-align: right;\">\n",
       "      <th>year</th>\n",
       "      <th>id</th>\n",
       "      <th>2007</th>\n",
       "      <th>2008</th>\n",
       "      <th>2009</th>\n",
       "      <th>2010</th>\n",
       "      <th>2011</th>\n",
       "      <th>2012</th>\n",
       "      <th>2013</th>\n",
       "      <th>2014</th>\n",
       "      <th>2015</th>\n",
       "      <th>2016</th>\n",
       "      <th>2017</th>\n",
       "      <th>2018</th>\n",
       "      <th>2019</th>\n",
       "      <th>2020</th>\n",
       "      <th>2021</th>\n",
       "      <th>2022</th>\n",
       "      <th>2023</th>\n",
       "    </tr>\n",
       "  </thead>\n",
       "  <tbody>\n",
       "    <tr>\n",
       "      <th>0</th>\n",
       "      <td>https://openalex.org/A5075441180</td>\n",
       "      <td>1</td>\n",
       "      <td>4</td>\n",
       "      <td>5</td>\n",
       "      <td>3</td>\n",
       "      <td>2</td>\n",
       "      <td>2</td>\n",
       "      <td>6</td>\n",
       "      <td>4</td>\n",
       "      <td>4</td>\n",
       "      <td>16</td>\n",
       "      <td>10</td>\n",
       "      <td>8</td>\n",
       "      <td>6</td>\n",
       "      <td>12</td>\n",
       "      <td>6</td>\n",
       "      <td>1</td>\n",
       "      <td>1</td>\n",
       "    </tr>\n",
       "  </tbody>\n",
       "</table>\n",
       "</div>"
      ],
      "text/plain": [
       "year                                id  2007  2008  2009  2010  2011  2012  \\\n",
       "0     https://openalex.org/A5075441180     1     4     5     3     2     2   \n",
       "\n",
       "year  2013  2014  2015  2016  2017  2018  2019  2020  2021  2022  2023  \n",
       "0        6     4     4    16    10     8     6    12     6     1     1  "
      ]
     },
     "execution_count": 7,
     "metadata": {},
     "output_type": "execute_result"
    }
   ],
   "source": [
    "if SAVE_CSV:\n",
    "    df_works_by_year.to_csv(f\"work_counts_by_year.csv\", index=True)\n",
    "\n",
    "df_works_by_year"
   ]
  },
  {
   "cell_type": "code",
   "execution_count": 8,
   "metadata": {},
   "outputs": [],
   "source": [
    "df_citations_by_year = get_cited_by_counts_by_year(df_works, author_id)\n",
    "\n",
    "# reindex the dataframe columns in sorted order\n",
    "df_citations_by_year = df_citations_by_year.reindex(sorted(df_citations_by_year.columns), axis=1)\n",
    "\n",
    "# group the dataframe by 'id' and sum the values\n",
    "df_citations_by_year = df_citations_by_year.groupby([\"id\"]).sum()\n",
    "\n",
    "# flatten the multiindex columns to a single level\n",
    "df_citations_by_year.columns = df_citations_by_year.columns.get_level_values(1)\n",
    "\n",
    "# reset the index to convert the 'id' index back to a column\n",
    "df_citations_by_year = df_citations_by_year.reset_index()"
   ]
  },
  {
   "cell_type": "markdown",
   "metadata": {},
   "source": [
    "### Citation counts by year\n",
    "\n",
    "Here, we create a dataframe that displays citations to the researcher's publications (by year).  "
   ]
  },
  {
   "cell_type": "code",
   "execution_count": 9,
   "metadata": {},
   "outputs": [
    {
     "data": {
      "application/vnd.microsoft.datawrangler.viewer.v0+json": {
       "columns": [
        {
         "name": "index",
         "rawType": "int64",
         "type": "integer"
        },
        {
         "name": "id",
         "rawType": "object",
         "type": "string"
        },
        {
         "name": "2012",
         "rawType": "int64",
         "type": "integer"
        },
        {
         "name": "2013",
         "rawType": "int64",
         "type": "integer"
        },
        {
         "name": "2014",
         "rawType": "int64",
         "type": "integer"
        },
        {
         "name": "2015",
         "rawType": "int64",
         "type": "integer"
        },
        {
         "name": "2016",
         "rawType": "int64",
         "type": "integer"
        },
        {
         "name": "2017",
         "rawType": "int64",
         "type": "integer"
        },
        {
         "name": "2018",
         "rawType": "int64",
         "type": "integer"
        },
        {
         "name": "2019",
         "rawType": "int64",
         "type": "integer"
        },
        {
         "name": "2020",
         "rawType": "int64",
         "type": "integer"
        },
        {
         "name": "2021",
         "rawType": "int64",
         "type": "integer"
        },
        {
         "name": "2022",
         "rawType": "int64",
         "type": "integer"
        },
        {
         "name": "2023",
         "rawType": "int64",
         "type": "integer"
        },
        {
         "name": "2024",
         "rawType": "int64",
         "type": "integer"
        },
        {
         "name": "2025",
         "rawType": "int64",
         "type": "integer"
        }
       ],
       "conversionMethod": "pd.DataFrame",
       "ref": "6957a234-fa6d-441e-8f6b-ccf09e56a1fa",
       "rows": [
        [
         "0",
         "https://openalex.org/A5075441180",
         "24",
         "24",
         "40",
         "29",
         "50",
         "45",
         "52",
         "38",
         "92",
         "332",
         "454",
         "441",
         "451",
         "64"
        ]
       ],
       "shape": {
        "columns": 15,
        "rows": 1
       }
      },
      "text/html": [
       "<div>\n",
       "<style scoped>\n",
       "    .dataframe tbody tr th:only-of-type {\n",
       "        vertical-align: middle;\n",
       "    }\n",
       "\n",
       "    .dataframe tbody tr th {\n",
       "        vertical-align: top;\n",
       "    }\n",
       "\n",
       "    .dataframe thead th {\n",
       "        text-align: right;\n",
       "    }\n",
       "</style>\n",
       "<table border=\"1\" class=\"dataframe\">\n",
       "  <thead>\n",
       "    <tr style=\"text-align: right;\">\n",
       "      <th>year</th>\n",
       "      <th>id</th>\n",
       "      <th>2012</th>\n",
       "      <th>2013</th>\n",
       "      <th>2014</th>\n",
       "      <th>2015</th>\n",
       "      <th>2016</th>\n",
       "      <th>2017</th>\n",
       "      <th>2018</th>\n",
       "      <th>2019</th>\n",
       "      <th>2020</th>\n",
       "      <th>2021</th>\n",
       "      <th>2022</th>\n",
       "      <th>2023</th>\n",
       "      <th>2024</th>\n",
       "      <th>2025</th>\n",
       "    </tr>\n",
       "  </thead>\n",
       "  <tbody>\n",
       "    <tr>\n",
       "      <th>0</th>\n",
       "      <td>https://openalex.org/A5075441180</td>\n",
       "      <td>24</td>\n",
       "      <td>24</td>\n",
       "      <td>40</td>\n",
       "      <td>29</td>\n",
       "      <td>50</td>\n",
       "      <td>45</td>\n",
       "      <td>52</td>\n",
       "      <td>38</td>\n",
       "      <td>92</td>\n",
       "      <td>332</td>\n",
       "      <td>454</td>\n",
       "      <td>441</td>\n",
       "      <td>451</td>\n",
       "      <td>64</td>\n",
       "    </tr>\n",
       "  </tbody>\n",
       "</table>\n",
       "</div>"
      ],
      "text/plain": [
       "year                                id  2012  2013  2014  2015  2016  2017  \\\n",
       "0     https://openalex.org/A5075441180    24    24    40    29    50    45   \n",
       "\n",
       "year  2018  2019  2020  2021  2022  2023  2024  2025  \n",
       "0       52    38    92   332   454   441   451    64  "
      ]
     },
     "execution_count": 9,
     "metadata": {},
     "output_type": "execute_result"
    }
   ],
   "source": [
    "if SAVE_CSV:\n",
    "    df_citations_by_year.to_csv(f\"citation_counts_by_year.csv\", index=True)\n",
    "\n",
    "df_citations_by_year"
   ]
  },
  {
   "cell_type": "markdown",
   "metadata": {},
   "source": [
    "## Backward Citation Analysis\n",
    "\n",
    "This approach can be used to identify the body of literature that has influenced a given work or set of works. In this example, we explore the body of literature influencing the individual researcher from above (but this analysis could also be performed at the topic-, journal-, or organizational-level).  \n",
    "\n",
    "### Steps\n",
    "\n",
    "1. We need to get all the works published by the researcher\n",
    "2. We get all the outgoing referenced works\n",
    "3. We examine the occurrence of references in all works published by the researcher\n",
    "\n",
    "### Get all outgoing referenced works\n",
    "\n",
    "Our search criteria are as follows:  \n",
    "- [`cited_by`](https://docs.openalex.org/api-entities/works/filter-works#cited_by): works found in the given work's [`referenced_works`](https://docs.openalex.org/api-entities/works/work-object#referenced_works) section, `cited_by:https://openalex.org/W2766808518`\n",
    "\n",
    "Now we need to build an URL for the query from the following parameters:  \n",
    "- Starting point is the base URL of the OpenAlex API: `https://api.openalex.org/`\n",
    "- We append the entity type to it: `https://api.openalex.org/works`\n",
    "- All criteria need to go into the query parameter filter that is added after a question mark: `https://api.openalex.org/works?filter=`\n",
    "- To construct the filter value we take the criteria we specified and concatenate them using commas as separators: `https://api.openalex.org/works?filter=cited_by:https://openalex.org/W2766808518&page=1&per-page=50`"
   ]
  },
  {
   "cell_type": "code",
   "execution_count": 10,
   "metadata": {},
   "outputs": [],
   "source": [
    "def get_all_outgoing_referenced_works(work_ids):\n",
    "\n",
    "    def get_outgoing_referenced_work(work_id, page=1, items_per_page=50):\n",
    "        # construct the api url with the given work id, page number, and items per page\n",
    "        url = f\"https://api.openalex.org/works?filter=cited_by:{work_id}&page={page}&per-page={items_per_page}\"\n",
    "\n",
    "        # send a GET request to the api and parse the json response\n",
    "        response = requests.get(url)\n",
    "        json_data = response.json()\n",
    "\n",
    "        # convert the json response to a dataframe\n",
    "        df_json = pd.DataFrame.from_dict(json_data[\"results\"])\n",
    "\n",
    "        next_page = True\n",
    "        if df_json.empty: # check if the dataframe is empty (i.e., no more pages available)\n",
    "            next_page = False\n",
    "\n",
    "        # if there are more pages, recursively fetch the next page\n",
    "        if next_page:\n",
    "            df_json_next_page = get_outgoing_referenced_work(work_id, page=page+1, items_per_page=items_per_page)\n",
    "            df_json = pd.concat([df_json, df_json_next_page])\n",
    "\n",
    "        # add the 'work_id' to the dataframe\n",
    "        df_json[\"original_work\"] = work_id\n",
    "        return df_json\n",
    "\n",
    "    df_reference = pd.concat(map(get_outgoing_referenced_work, work_ids))\n",
    "    return df_reference"
   ]
  },
  {
   "cell_type": "code",
   "execution_count": 11,
   "metadata": {},
   "outputs": [
    {
     "name": "stderr",
     "output_type": "stream",
     "text": [
      "/var/folders/90/d4l4r4497dzbtl64rn9vp0gr0000gn/T/ipykernel_90481/2492055361.py:21: FutureWarning: The behavior of DataFrame concatenation with empty or all-NA entries is deprecated. In a future version, this will no longer exclude empty or all-NA columns when determining the result dtypes. To retain the old behavior, exclude the relevant entries before the concat operation.\n",
      "  df_json = pd.concat([df_json, df_json_next_page])\n"
     ]
    }
   ],
   "source": [
    "df_outgoing_reference = get_all_outgoing_referenced_works(df_works[\"id\"])\n",
    "if SAVE_CSV:\n",
    "    df_outgoing_reference.to_csv(f\"outgoing_referenced.csv\", index=True)"
   ]
  },
  {
   "cell_type": "markdown",
   "metadata": {},
   "source": [
    "### Examine occurrence of outgoing referenced publication\n",
    "\n",
    "Here, we create a dataframe displaying the number of times the researcher has cited each work.  \n"
   ]
  },
  {
   "cell_type": "code",
   "execution_count": 12,
   "metadata": {},
   "outputs": [
    {
     "data": {
      "application/vnd.microsoft.datawrangler.viewer.v0+json": {
       "columns": [
        {
         "name": "('id', 'title')",
         "rawType": "object",
         "type": "unknown"
        },
        {
         "name": "count",
         "rawType": "int64",
         "type": "integer"
        }
       ],
       "conversionMethod": "pd.DataFrame",
       "ref": "1d5e0694-3da6-4ff6-80ce-44bc3aa9ff15",
       "rows": [
        [
         "('https://openalex.org/W2038270470', 'Age effects on carbon fluxes in temperate pine forests')",
         "13"
        ],
        [
         "('https://openalex.org/W2036147904', 'Above- and belowground ecosystem biomass and carbon pools in an age-sequence of temperate pine plantation forests')",
         "12"
        ],
        [
         "('https://openalex.org/W2161094103', 'Net ecosystem production in a temperate pine plantation in southeastern Canada')",
         "12"
        ],
        [
         "('https://openalex.org/W2047753483', 'Allometry and partitioning of above- and belowground tree biomass in an age-sequence of white pine forests')",
         "10"
        ],
        [
         "('https://openalex.org/W2076711862', 'Water flux components and soil water‐atmospheric controls in a temperate pine forest growing in a well‐drained sandy soil')",
         "10"
        ],
        [
         "('https://openalex.org/W2128342866', 'Towards a standardized processing of Net Ecosystem Exchange measured with eddy covariance technique: algorithms and uncertainty estimation')",
         "8"
        ],
        [
         "('https://openalex.org/W2014431247', 'Leaf area index measurements at Fluxnet-Canada forest sites')",
         "8"
        ],
        [
         "('https://openalex.org/W818040759', 'Data-driven approaches for sustainable operation and defensible results in a long-term, multi-site ecosystem flux measurement program')",
         "7"
        ],
        [
         "('https://openalex.org/W2054259981', 'Biometric and eddy-covariance based estimates of carbon fluxes in an age-sequence of temperate pine forests')",
         "6"
        ],
        [
         "('https://openalex.org/W2109631166', 'A Large and Persistent Carbon Sink in the World’s Forests')",
         "6"
        ],
        [
         "('https://openalex.org/W2111853082', 'Carbon dioxide, methane, and nitrous oxide exchanges in an age‐sequence of temperate pine forests')",
         "6"
        ],
        [
         "('https://openalex.org/W2055529244', 'Evidence for soil water control on carbon and water dynamics in European forests during the extremely dry year: 2003')",
         "5"
        ],
        [
         "('https://openalex.org/W2049964066', 'Debut of a flexible model for simulating soil respiration–soil temperature relationship: Gamma model')",
         "5"
        ],
        [
         "('https://openalex.org/W2165037481', 'Europe-wide reduction in primary productivity caused by the heat and drought in 2003')",
         "5"
        ],
        [
         "('https://openalex.org/W2140131090', 'A global overview of drought and heat-induced tree mortality reveals emerging climate change risks for forests')",
         "5"
        ],
        [
         "('https://openalex.org/W2124437404', 'On the separation of net ecosystem exchange into assimilation and ecosystem respiration: review and improved algorithm')",
         "5"
        ],
        [
         "('https://openalex.org/W1967839820', 'Temperate forest trees and stands under severe drought: a review of ecophysiological responses, adaptation processes and long-term consequences')",
         "5"
        ],
        [
         "('https://openalex.org/W2112081076', 'Use of change-point detection for friction–velocity threshold evaluation in eddy-covariance studies')",
         "5"
        ],
        [
         "('https://openalex.org/W2108920378', 'Carbon cycling and storage in world forests: biome patterns related to forest age')",
         "5"
        ],
        [
         "('https://openalex.org/W2035498028', 'Influence of stand age on the magnitude and seasonality of carbon fluxes in Canadian forests')",
         "5"
        ],
        [
         "('https://openalex.org/W2151478249', 'Comprehensive comparison of gap-filling techniques for eddy covariance net carbon fluxes')",
         "5"
        ],
        [
         "('https://openalex.org/W2101713083', 'Carbon, energy and water fluxes at mature and disturbed forest sites, Saskatchewan, Canada')",
         "5"
        ],
        [
         "('https://openalex.org/W2051662511', 'Net carbon dioxide losses of northern ecosystems in response to autumn warming')",
         "5"
        ],
        [
         "('https://openalex.org/W2168416179', 'Age effects on the water‐use efficiency and water‐use dynamics of temperate pine plantation forests')",
         "5"
        ],
        [
         "('https://openalex.org/W2148043243', 'Changes in carbon storage and fluxes in a chronosequence of ponderosa pine')",
         "5"
        ],
        [
         "('https://openalex.org/W2180289817', 'FOREST CARBON SINKS IN THE NORTHERN HEMISPHERE')",
         "4"
        ],
        [
         "('https://openalex.org/W2163926603', 'The influence of thinning on components of stand water balance in a ponderosa pine forest stand during and after extreme drought')",
         "4"
        ],
        [
         "('https://openalex.org/W2131062081', 'Onset of spring starting earlier across the Northern Hemisphere')",
         "4"
        ],
        [
         "('https://openalex.org/W2106746763', 'The impact of induced drought on transpiration and growth in a temperate pine plantation forest')",
         "4"
        ],
        [
         "('https://openalex.org/W2163512293', 'How climate and vegetation type influence evapotranspiration and water use efficiency in Canadian forest, peatland and grassland ecosystems')",
         "4"
        ],
        [
         "('https://openalex.org/W2100623651', 'Environmental variation is directly responsible for short‐ but not long‐term variation in forest‐atmosphere carbon exchange')",
         "4"
        ],
        [
         "('https://openalex.org/W2009237617', 'Energy and water exchanges from a temperate pine plantation forest')",
         "4"
        ],
        [
         "('https://openalex.org/W2137443593', 'Long-term variability and environmental control of the carbon cycle in an oak-dominated temperate forest')",
         "4"
        ],
        [
         "('https://openalex.org/W1559117393', 'Comparison of the Langrangian Footprint')",
         "4"
        ],
        [
         "('https://openalex.org/W2168108537', 'Evaluation of transpiration in a Douglas-fir stand by means of sap flow measurements')",
         "4"
        ],
        [
         "('https://openalex.org/W2118171762', 'Climatic versus biotic constraints on carbon and water fluxes in seasonally drought‐affected ponderosa pine ecosystems')",
         "4"
        ],
        [
         "('https://openalex.org/W2072452205', 'Carbon sequestration potential by afforestation of marginal agricultural land in the Midwestern U.S.')",
         "4"
        ],
        [
         "('https://openalex.org/W2109378554', 'The European carbon balance. Part 4: integration of carbon and other trace‐gas fluxes')",
         "3"
        ],
        [
         "('https://openalex.org/W2122487338', 'Transpiration in response to variation in microclimate and soil moisture in southeastern deciduous forests')",
         "3"
        ],
        [
         "('https://openalex.org/W2168331027', 'Sensitivity and uncertainty of the carbon balance of a Pacific Northwest Douglas-fir forest during an El Niño/La Niña cycle')",
         "3"
        ],
        [
         "('https://openalex.org/W2004816750', 'Carbon balance of different aged Scots pine forests in Southern Finland')",
         "3"
        ],
        [
         "('https://openalex.org/W2120719074', 'Carbon sequestration in boreal jack pine stands following harvesting')",
         "3"
        ],
        [
         "('https://openalex.org/W2117508427', 'Autumn, the neglected season in climate change research')",
         "3"
        ],
        [
         "('https://openalex.org/W1982324692', 'Time constant for water transport in loblolly pine trees estimated from time series of evaporative demand and stem sapflow')",
         "3"
        ],
        [
         "('https://openalex.org/W1973091257', 'Carbon dioxide fluxes in coastal Douglas-fir stands at different stages of development after clearcut harvesting')",
         "3"
        ],
        [
         "('https://openalex.org/W2126507922', 'CO<sub>2</sub> balance of boreal, temperate, and tropical forests derived from a global database')",
         "3"
        ],
        [
         "('https://openalex.org/W1972871537', 'Relative contributions of soil, foliar, and woody tissue respiration to total ecosystem respiration in four pine forests of different ages')",
         "3"
        ],
        [
         "('https://openalex.org/W2109039109', 'Environmental controls over carbon dioxide and water vapor exchange of terrestrial vegetation')",
         "3"
        ],
        [
         "('https://openalex.org/W2969500618', 'Site Index and Height Growth Curves for Ponderosa Pine, Western Larch, Lodgepole Pine, and Douglas-Fir in Western Montana')",
         "3"
        ],
        [
         "('https://openalex.org/W2939474406', 'Climate change 2007: the physical science basis')",
         "3"
        ]
       ],
       "shape": {
        "columns": 1,
        "rows": 1093
       }
      },
      "text/html": [
       "<div>\n",
       "<style scoped>\n",
       "    .dataframe tbody tr th:only-of-type {\n",
       "        vertical-align: middle;\n",
       "    }\n",
       "\n",
       "    .dataframe tbody tr th {\n",
       "        vertical-align: top;\n",
       "    }\n",
       "\n",
       "    .dataframe thead th {\n",
       "        text-align: right;\n",
       "    }\n",
       "</style>\n",
       "<table border=\"1\" class=\"dataframe\">\n",
       "  <thead>\n",
       "    <tr style=\"text-align: right;\">\n",
       "      <th></th>\n",
       "      <th></th>\n",
       "      <th>count</th>\n",
       "    </tr>\n",
       "    <tr>\n",
       "      <th>id</th>\n",
       "      <th>title</th>\n",
       "      <th></th>\n",
       "    </tr>\n",
       "  </thead>\n",
       "  <tbody>\n",
       "    <tr>\n",
       "      <th>https://openalex.org/W2038270470</th>\n",
       "      <th>Age effects on carbon fluxes in temperate pine forests</th>\n",
       "      <td>13</td>\n",
       "    </tr>\n",
       "    <tr>\n",
       "      <th>https://openalex.org/W2036147904</th>\n",
       "      <th>Above- and belowground ecosystem biomass and carbon pools in an age-sequence of temperate pine plantation forests</th>\n",
       "      <td>12</td>\n",
       "    </tr>\n",
       "    <tr>\n",
       "      <th>https://openalex.org/W2161094103</th>\n",
       "      <th>Net ecosystem production in a temperate pine plantation in southeastern Canada</th>\n",
       "      <td>12</td>\n",
       "    </tr>\n",
       "    <tr>\n",
       "      <th>https://openalex.org/W2047753483</th>\n",
       "      <th>Allometry and partitioning of above- and belowground tree biomass in an age-sequence of white pine forests</th>\n",
       "      <td>10</td>\n",
       "    </tr>\n",
       "    <tr>\n",
       "      <th>https://openalex.org/W2076711862</th>\n",
       "      <th>Water flux components and soil water‐atmospheric controls in a temperate pine forest growing in a well‐drained sandy soil</th>\n",
       "      <td>10</td>\n",
       "    </tr>\n",
       "    <tr>\n",
       "      <th>...</th>\n",
       "      <th>...</th>\n",
       "      <td>...</td>\n",
       "    </tr>\n",
       "    <tr>\n",
       "      <th>https://openalex.org/W2092100648</th>\n",
       "      <th>The influence of stand development on nutrient demand, growth and allocation</th>\n",
       "      <td>1</td>\n",
       "    </tr>\n",
       "    <tr>\n",
       "      <th>https://openalex.org/W2092191291</th>\n",
       "      <th>Storage and internal cycling of nitrogen in relation to seasonal growth of Sitka spruce</th>\n",
       "      <td>1</td>\n",
       "    </tr>\n",
       "    <tr>\n",
       "      <th>https://openalex.org/W2093065735</th>\n",
       "      <th>Class—A Canadian land surface scheme for GCMS. I. Soil model</th>\n",
       "      <td>1</td>\n",
       "    </tr>\n",
       "    <tr>\n",
       "      <th>https://openalex.org/W2093602709</th>\n",
       "      <th>Water relations of evergreen and drought-deciduous trees along a seasonally dry tropical forest chronosequence</th>\n",
       "      <td>1</td>\n",
       "    </tr>\n",
       "    <tr>\n",
       "      <th>https://openalex.org/W961912840</th>\n",
       "      <th>Clinical Research: A Multimethod Typology and Qualitative Roadmap</th>\n",
       "      <td>1</td>\n",
       "    </tr>\n",
       "  </tbody>\n",
       "</table>\n",
       "<p>1093 rows × 1 columns</p>\n",
       "</div>"
      ],
      "text/plain": [
       "                                                                                     count\n",
       "id                               title                                                    \n",
       "https://openalex.org/W2038270470 Age effects on carbon fluxes in temperate pine ...     13\n",
       "https://openalex.org/W2036147904 Above- and belowground ecosystem biomass and ca...     12\n",
       "https://openalex.org/W2161094103 Net ecosystem production in a temperate pine pl...     12\n",
       "https://openalex.org/W2047753483 Allometry and partitioning of above- and belowg...     10\n",
       "https://openalex.org/W2076711862 Water flux components and soil water‐atmospheri...     10\n",
       "...                                                                                    ...\n",
       "https://openalex.org/W2092100648 The influence of stand development on nutrient ...      1\n",
       "https://openalex.org/W2092191291 Storage and internal cycling of nitrogen in rel...      1\n",
       "https://openalex.org/W2093065735 Class—A Canadian land surface scheme for GCMS. ...      1\n",
       "https://openalex.org/W2093602709 Water relations of evergreen and drought-decidu...      1\n",
       "https://openalex.org/W961912840  Clinical Research: A Multimethod Typology and Q...      1\n",
       "\n",
       "[1093 rows x 1 columns]"
      ]
     },
     "execution_count": 12,
     "metadata": {},
     "output_type": "execute_result"
    }
   ],
   "source": [
    "# group the dataframe by 'id' and 'title', and aggregate the 'id' column by count\n",
    "df_unique_outgoing_reference = df_outgoing_reference.groupby([\"id\", \"title\"]).agg({\"id\": \"count\"})\n",
    "\n",
    "# rename the 'id' column to 'count'\n",
    "df_unique_outgoing_reference.rename(columns={\"id\": \"count\"}, inplace=True)\n",
    "\n",
    "# sort the dataframe by the 'count' column in descending order\n",
    "df_unique_outgoing_reference.sort_values(\"count\", ascending=False)"
   ]
  },
  {
   "cell_type": "markdown",
   "metadata": {},
   "source": [
    "## Foward Citation Analysis\n",
    "\n",
    "If a researcher is trying to assert the impact of their own work (for promotion/tenure, grants, or awards), there is value in understanding how their research is being utilized/cited by others.  \n",
    "\n",
    "### Steps\n",
    "\n",
    "1. We need to get all the works published by the researcher\n",
    "2. We get all the incoming referenced works\n",
    "3. We examine the incoming citation counts by year and by journal\n",
    "\n",
    "### Get all incoming referenced works\n",
    "\n",
    "Our search criteria are as follows:  \n",
    "- [`cites`](https://docs.openalex.org/api-entities/works/filter-works#cites): works that cite the given work, `cites:https://openalex.org/W2766808518`\n",
    "\n",
    "Now we need to build an URL for the query from the following parameters:  \n",
    "- Starting point is the base URL of the OpenAlex API: `https://api.openalex.org/`\n",
    "- We append the entity type to it: `https://api.openalex.org/works`\n",
    "- All criteria need to go into the query parameter filter that is added after a question mark: `https://api.openalex.org/works?filter=`\n",
    "- To construct the filter value we take the criteria we specified and concatenate them using commas as separators: `https://api.openalex.org/works?filter=cites:https://openalex.org/W2766808518&page=1&per-page=50`"
   ]
  },
  {
   "cell_type": "code",
   "execution_count": 13,
   "metadata": {},
   "outputs": [],
   "source": [
    "def get_all_incoming_referenced_works(work_ids):\n",
    "\n",
    "    def get_incoming_referenced_works(work_id, page=1, items_per_page=50):\n",
    "        # construct the api url with the given work id, page number, and items per page\n",
    "        url = f\"https://api.openalex.org/works?filter=cites:{work_id}&page={page}&per-page={items_per_page}\"\n",
    "\n",
    "        # send a GET request to the api and parse the json response\n",
    "        response = requests.get(url)\n",
    "        json_data = response.json()\n",
    "\n",
    "        # convert the json response to a dataframe\n",
    "        df_json = pd.DataFrame.from_dict(json_data[\"results\"])\n",
    "\n",
    "        next_page = True\n",
    "        if df_json.empty: # check if the dataframe is empty (i.e., no more pages available)\n",
    "            next_page = False\n",
    "\n",
    "        # if there are more pages, recursively fetch the next page\n",
    "        if next_page:\n",
    "            df_json_next_page = get_incoming_referenced_works(work_id, page=page+1, items_per_page=items_per_page)\n",
    "            df_json = pd.concat([df_json, df_json_next_page])\n",
    "\n",
    "        # add the 'work_id' to the dataframe\n",
    "        df_json[\"original_work\"] = work_id\n",
    "        return df_json\n",
    "\n",
    "    df_reference = pd.concat(map(get_incoming_referenced_works, work_ids))\n",
    "    return df_reference"
   ]
  },
  {
   "cell_type": "code",
   "execution_count": null,
   "metadata": {},
   "outputs": [],
   "source": [
    "df_incoming_referenced = get_all_incoming_referenced_works(df_works[\"id\"])\n",
    "if SAVE_CSV:\n",
    "    df_incoming_referenced.to_csv(f\"incoming_referenced.csv\", index=True)"
   ]
  },
  {
   "cell_type": "markdown",
   "metadata": {},
   "source": [
    "### Examine incoming citation counts by country\n",
    "\n",
    "Here, we create a dataframe and simple visualization of citations to the researcher's work by country.  "
   ]
  },
  {
   "cell_type": "code",
   "execution_count": 15,
   "metadata": {},
   "outputs": [],
   "source": [
    "# create a new column 'countries' by applying a lambda function to the 'authorships' column\n",
    "df_incoming_referenced[\"countries\"] = df_incoming_referenced[\"authorships\"].apply(lambda authorships: set([country for authorship in authorships for country in authorship[\"countries\"]]))"
   ]
  },
  {
   "cell_type": "code",
   "execution_count": 16,
   "metadata": {},
   "outputs": [],
   "source": [
    "from collections import Counter\n",
    "\n",
    "# flatten the list of sets and count occurrences of each country\n",
    "country_counts = Counter(country for countries_set in df_incoming_referenced[\"countries\"] for country in countries_set)\n",
    "\n",
    "# convert the Counter object to a DataFrame for better readability\n",
    "df_country_counts = pd.DataFrame.from_dict(country_counts, orient=\"index\", columns=[\"count\"])"
   ]
  },
  {
   "cell_type": "code",
   "execution_count": 17,
   "metadata": {},
   "outputs": [
    {
     "data": {
      "application/vnd.microsoft.datawrangler.viewer.v0+json": {
       "columns": [
        {
         "name": "index",
         "rawType": "object",
         "type": "string"
        },
        {
         "name": "count",
         "rawType": "int64",
         "type": "integer"
        }
       ],
       "conversionMethod": "pd.DataFrame",
       "ref": "d678434f-0c98-4e57-ac55-af8308bf4ac8",
       "rows": [
        [
         "US",
         "703"
        ],
        [
         "CN",
         "673"
        ],
        [
         "CA",
         "374"
        ],
        [
         "DE",
         "326"
        ],
        [
         "GB",
         "249"
        ]
       ],
       "shape": {
        "columns": 1,
        "rows": 5
       }
      },
      "text/html": [
       "<div>\n",
       "<style scoped>\n",
       "    .dataframe tbody tr th:only-of-type {\n",
       "        vertical-align: middle;\n",
       "    }\n",
       "\n",
       "    .dataframe tbody tr th {\n",
       "        vertical-align: top;\n",
       "    }\n",
       "\n",
       "    .dataframe thead th {\n",
       "        text-align: right;\n",
       "    }\n",
       "</style>\n",
       "<table border=\"1\" class=\"dataframe\">\n",
       "  <thead>\n",
       "    <tr style=\"text-align: right;\">\n",
       "      <th></th>\n",
       "      <th>count</th>\n",
       "    </tr>\n",
       "  </thead>\n",
       "  <tbody>\n",
       "    <tr>\n",
       "      <th>US</th>\n",
       "      <td>703</td>\n",
       "    </tr>\n",
       "    <tr>\n",
       "      <th>CN</th>\n",
       "      <td>673</td>\n",
       "    </tr>\n",
       "    <tr>\n",
       "      <th>CA</th>\n",
       "      <td>374</td>\n",
       "    </tr>\n",
       "    <tr>\n",
       "      <th>DE</th>\n",
       "      <td>326</td>\n",
       "    </tr>\n",
       "    <tr>\n",
       "      <th>GB</th>\n",
       "      <td>249</td>\n",
       "    </tr>\n",
       "  </tbody>\n",
       "</table>\n",
       "</div>"
      ],
      "text/plain": [
       "    count\n",
       "US    703\n",
       "CN    673\n",
       "CA    374\n",
       "DE    326\n",
       "GB    249"
      ]
     },
     "execution_count": 17,
     "metadata": {},
     "output_type": "execute_result"
    }
   ],
   "source": [
    "# top countries to cite the author's publications\n",
    "df_country_counts.sort_values(by=\"count\", ascending=False).head()"
   ]
  },
  {
   "cell_type": "code",
   "execution_count": 18,
   "metadata": {},
   "outputs": [
    {
     "data": {
      "image/png": "[encoded data removed]",
      "text/plain": [
       "<Figure size 640x480 with 1 Axes>"
      ]
     },
     "metadata": {},
     "output_type": "display_data"
    }
   ],
   "source": [
    "import matplotlib.pyplot as plt\n",
    "\n",
    "# sort the dataframe by 'count' in descending order, select the top FIRST_NUM_ROWS rows, and plot as a bar chart\n",
    "df_country_counts.sort_values(by=\"count\", ascending=False).head(FIRST_NUM_ROWS).plot(kind=\"bar\", legend=False)\n",
    "\n",
    "# set the title of the plot\n",
    "plt.title(f\"Top {FIRST_NUM_ROWS} countries to cite author ({author_id})'s publications\")\n",
    "# set the x-axis label\n",
    "plt.xlabel(\"Country\")\n",
    "# set the y-axis label\n",
    "plt.ylabel(\"Count\")\n",
    "\n",
    "plt.show()"
   ]
  },
  {
   "cell_type": "markdown",
   "metadata": {},
   "source": [
    "### Examine incoming citation counts by publisher\n",
    "\n",
    "In a `work` entity object, there are information about the publisher ([`primary_location`](https://docs.openalex.org/api-entities/works/work-object#primary_location)) and the publication's APC listed by the publisher.  \n",
    "\n",
    "`primary_location` is a [`Location`](https://docs.openalex.org/api-entities/works/work-object/location-object) object describing the primary location of this work. We are interested in the [`source`](https://docs.openalex.org/api-entities/works/work-object/location-object#source) of the location, which contains the information of the publisher, such as its OpenAlex `id` and `display_name`.  \n",
    "\n",
    "Here, we create a dataframe displaying the number of times the researcher's work has been cited in different journals.  "
   ]
  },
  {
   "cell_type": "code",
   "execution_count": 19,
   "metadata": {},
   "outputs": [],
   "source": [
    "import numpy as np\n",
    "\n",
    "# extract 'id' from 'source' within 'primary_location' if 'source' exists; otherwise, set to null\n",
    "df_incoming_referenced[\"source_id\"] = df_incoming_referenced[\"primary_location\"].apply(lambda location: location[\"source\"][\"id\"] if location[\"source\"] else np.nan)\n",
    "\n",
    "# extract 'source_name' from 'source' within 'primary_location' if 'source' exists; otherwise, set to null\n",
    "df_incoming_referenced[\"source_name\"] = df_incoming_referenced[\"primary_location\"].apply(lambda location: location[\"source\"][\"display_name\"] if location[\"source\"] else np.nan)\n",
    "\n",
    "# fill null values in 'source_id' and 'source_name'\n",
    "df_incoming_referenced[\"source_id\"] = df_incoming_referenced[\"source_id\"].fillna(\"unknown source\")\n",
    "df_incoming_referenced[\"source_name\"] = df_incoming_referenced[\"source_name\"].fillna(\"unknown source\")"
   ]
  },
  {
   "cell_type": "code",
   "execution_count": 20,
   "metadata": {},
   "outputs": [],
   "source": [
    "# group the dataframe by 'source_id' and 'source_name' and aggregate the 'id' column by count\n",
    "df_publisher_counts = df_incoming_referenced.groupby([\"source_id\", \"source_name\"]).agg({\"id\": \"count\"})\n",
    "\n",
    "# rename the 'id' column to 'count'\n",
    "df_publisher_counts.rename(columns={\"id\": \"count\"}, inplace=True)"
   ]
  },
  {
   "cell_type": "code",
   "execution_count": 21,
   "metadata": {},
   "outputs": [
    {
     "data": {
      "application/vnd.microsoft.datawrangler.viewer.v0+json": {
       "columns": [
        {
         "name": "('source_id', 'source_name')",
         "rawType": "object",
         "type": "unknown"
        },
        {
         "name": "count",
         "rawType": "int64",
         "type": "integer"
        }
       ],
       "conversionMethod": "pd.DataFrame",
       "ref": "826f62b3-dcf3-433d-99d9-c9979e595e61",
       "rows": [
        [
         "('https://openalex.org/S17729819', 'Agricultural and Forest Meteorology')",
         "206"
        ],
        [
         "('https://openalex.org/S55737203', 'Journal of Hydrology')",
         "68"
        ],
        [
         "('https://openalex.org/S4210238840', 'Journal of Geophysical Research Biogeosciences')",
         "68"
        ],
        [
         "('https://openalex.org/S13442111', 'Biogeosciences')",
         "68"
        ],
        [
         "('https://openalex.org/S43295729', 'Remote Sensing')",
         "57"
        ]
       ],
       "shape": {
        "columns": 1,
        "rows": 5
       }
      },
      "text/html": [
       "<div>\n",
       "<style scoped>\n",
       "    .dataframe tbody tr th:only-of-type {\n",
       "        vertical-align: middle;\n",
       "    }\n",
       "\n",
       "    .dataframe tbody tr th {\n",
       "        vertical-align: top;\n",
       "    }\n",
       "\n",
       "    .dataframe thead th {\n",
       "        text-align: right;\n",
       "    }\n",
       "</style>\n",
       "<table border=\"1\" class=\"dataframe\">\n",
       "  <thead>\n",
       "    <tr style=\"text-align: right;\">\n",
       "      <th></th>\n",
       "      <th></th>\n",
       "      <th>count</th>\n",
       "    </tr>\n",
       "    <tr>\n",
       "      <th>source_id</th>\n",
       "      <th>source_name</th>\n",
       "      <th></th>\n",
       "    </tr>\n",
       "  </thead>\n",
       "  <tbody>\n",
       "    <tr>\n",
       "      <th>https://openalex.org/S17729819</th>\n",
       "      <th>Agricultural and Forest Meteorology</th>\n",
       "      <td>206</td>\n",
       "    </tr>\n",
       "    <tr>\n",
       "      <th>https://openalex.org/S55737203</th>\n",
       "      <th>Journal of Hydrology</th>\n",
       "      <td>68</td>\n",
       "    </tr>\n",
       "    <tr>\n",
       "      <th>https://openalex.org/S4210238840</th>\n",
       "      <th>Journal of Geophysical Research Biogeosciences</th>\n",
       "      <td>68</td>\n",
       "    </tr>\n",
       "    <tr>\n",
       "      <th>https://openalex.org/S13442111</th>\n",
       "      <th>Biogeosciences</th>\n",
       "      <td>68</td>\n",
       "    </tr>\n",
       "    <tr>\n",
       "      <th>https://openalex.org/S43295729</th>\n",
       "      <th>Remote Sensing</th>\n",
       "      <td>57</td>\n",
       "    </tr>\n",
       "  </tbody>\n",
       "</table>\n",
       "</div>"
      ],
      "text/plain": [
       "                                                                                 count\n",
       "source_id                        source_name                                          \n",
       "https://openalex.org/S17729819   Agricultural and Forest Meteorology               206\n",
       "https://openalex.org/S55737203   Journal of Hydrology                               68\n",
       "https://openalex.org/S4210238840 Journal of Geophysical Research Biogeosciences     68\n",
       "https://openalex.org/S13442111   Biogeosciences                                     68\n",
       "https://openalex.org/S43295729   Remote Sensing                                     57"
      ]
     },
     "execution_count": 21,
     "metadata": {},
     "output_type": "execute_result"
    }
   ],
   "source": [
    "# top publishers to cite the author's publications\n",
    "df_publisher_counts[df_publisher_counts.index != (\"unknown source\", \"unknown source\")].sort_values(by='count', ascending=False).head()"
   ]
  },
  {
   "cell_type": "markdown",
   "metadata": {},
   "source": [
    "## Open Access vs. Non-Open Access\n",
    "\n",
    "Researcher's and research institutions want to maximize the impact of their research by selecting the most influential journals for their publications.  \n",
    "\n",
    "Open access publications are more broadly accessible than their subscription-based counterparts. This leads us to wonder if open access publications at our institution are more highly cited than closed publcations.  \n",
    "\n",
    "This kind of analysis can help organizations promote open access publishing by exploring the impact is has on citation rates.  \n",
    "\n",
    "### Steps\n",
    "\n",
    "1. We need to get all the works published by researchers at the institution\n",
    "2. We get the publisher and open access status for each publication\n",
    "3. We analyze the open access citation rate\n",
    "\n",
    "### Input\n",
    "\n",
    "For inputs, we first need to identify the Research Organization Registry (ROR) ID for our institution. In this example we will use the ROR ID for McMaster University ([https://ror.org/02fa3aq29](https://ror.org/02fa3aq29)). You can search and substitute your own institution's ROR here: [https://ror.org/search](https://ror.org/search).  \n",
    "\n",
    "We also need to identify the publication year we are interested in analyzing.  "
   ]
  },
  {
   "cell_type": "code",
   "execution_count": 22,
   "metadata": {},
   "outputs": [],
   "source": [
    "# input\n",
    "ror_id = \"https://ror.org/02fa3aq29\"\n",
    "publication_year = 2024"
   ]
  },
  {
   "cell_type": "markdown",
   "metadata": {},
   "source": [
    "### Get all works published by researchers at the institution\n",
    "\n",
    "Our search criteria are as follows:  \n",
    "- [`institutions.ror`](https://docs.openalex.org/api-entities/works/work-object/authorship-object#institutions):  ROR ID of the institution affiliated with the authors of a work, `institutions.ror:https://ror.org/02fa3aq2`\n",
    "- [`publication_year`](https://docs.openalex.org/api-entities/works/work-object#publication_year): the year the work was published, `publication_year:2024`\n",
    "\n",
    "Now we need to build an URL for the query from the following parameters:\n",
    "- Starting point is the base URL of the OpenAlex API: `https://api.openalex.org/`\n",
    "- We append the entity type to it: `https://api.openalex.org/works`\n",
    "- All criteria need to go into the query parameter filter that is added after a question mark: `https://api.openalex.org/works?filter=`\n",
    "- To construct the filter value we take the criteria we specified and concatenate them using commas as separators: `https://api.openalex.org/works?filter=institutions.ror:https://ror.org/02fa3aq29,publication_year:2024&page=1&per-page=50`"
   ]
  },
  {
   "cell_type": "code",
   "execution_count": 23,
   "metadata": {},
   "outputs": [],
   "source": [
    "def get_works_by_institution(ror_id, publication_year, page=1, items_per_page=50):\n",
    "    # construct the api url with the given ror id, publication year, publication types, page number, and items per page\n",
    "    url = f\"https://api.openalex.org/works?filter=institutions.ror:{ror_id},publication_year:{publication_year}&page={page}&per-page={items_per_page}\"\n",
    "\n",
    "    # send a GET request to the api and parse the json response\n",
    "    response = requests.get(url)\n",
    "    json_data = response.json()\n",
    "\n",
    "    # convert the json response to a dataframe\n",
    "    df_json = pd.DataFrame.from_dict(json_data[\"results\"])\n",
    "\n",
    "    next_page = True\n",
    "    if df_json.empty: # check if the dataframe is empty (i.e., no more pages available)\n",
    "        next_page = False\n",
    "\n",
    "    # if there are more pages, recursively fetch the next page\n",
    "    if next_page:\n",
    "        df_json_next_page = get_works_by_institution(ror_id, publication_year, page=page+1, items_per_page=items_per_page)\n",
    "        df_json = pd.concat([df_json, df_json_next_page])\n",
    "\n",
    "    return df_json"
   ]
  },
  {
   "cell_type": "code",
   "execution_count": null,
   "metadata": {},
   "outputs": [],
   "source": [
    "df_works = get_works_by_institution(ror_id, publication_year)\n",
    "if SAVE_CSV:\n",
    "    df_works.to_csv(f\"institution_works_{publication_year}.csv\", index=True)"
   ]
  },
  {
   "cell_type": "markdown",
   "metadata": {},
   "source": [
    "### Get Publishers and Open Access Status\n",
    "\n",
    "In a `work` entity object, there are information about the publication's access status ([`open_access`](https://docs.openalex.org/api-entities/works/work-object#open_access)) and the publisher (`primary_location`).  \n",
    "\n",
    "`open_access` is a [`OpenAccess`](https://docs.openalex.org/api-entities/works/work-object#the-openaccess-object) object describing the access status of this work. The object contains Open Access status of this work (`oa_status`) with the following possible values:  \n",
    "\n",
    "\n",
    "- [`diamond`](https://en.wikipedia.org/wiki/Diamond_open_access): Published in a fully OA journal—one that is indexed by the [Directory of Open Access Journals (DOAJ)](https://doaj.org/) or that we have determined to be OA—with no article processing charges (i.e., free for both readers and authors).\n",
    "- `gold`: Published in a fully OA journal.\n",
    "- `green`: Toll-access on the publisher landing page, but there is a free copy in an [OA repository](https://en.wikipedia.org/wiki/Open-access_repository).\n",
    "- `hybrid`: Free under an [open license](https://support.unpaywall.org/support/solutions/articles/44002063718-what-is-an-oa-license-) in a toll-access journal.\n",
    "- `bronze`: Free to read on the publisher landing page, but without any identifiable license.\n",
    "- `closed`: All other articles."
   ]
  },
  {
   "cell_type": "code",
   "execution_count": 25,
   "metadata": {},
   "outputs": [],
   "source": [
    "import numpy as np\n",
    "\n",
    "# extract 'oa_status' from the 'open_access' dictionary for each row\n",
    "df_works[\"oa_status\"] = df_works[\"open_access\"].apply(lambda open_access: open_access[\"oa_status\"])\n",
    "\n",
    "# extract 'id' from 'source' within 'primary_location' if 'source' exists; otherwise, set to null\n",
    "df_works[\"source_id\"] = df_works[\"primary_location\"].apply(lambda location: location[\"source\"][\"id\"] if location[\"source\"] else np.nan)\n",
    "\n",
    "# extract 'source_name' from 'source' within 'primary_location' if 'source' exists; otherwise, set to null\n",
    "df_works[\"source_name\"] = df_works[\"primary_location\"].apply(lambda location: location[\"source\"][\"display_name\"] if location[\"source\"] else np.nan)\n",
    "\n",
    "# extract total citation counts for each row\n",
    "df_works[\"total_citation\"] = df_works[\"counts_by_year\"].apply(lambda citation_count_by_year: sum([count[\"cited_by_count\"] for count in citation_count_by_year]))\n",
    "\n",
    "# fill null values in 'source_id' and 'source_name'\n",
    "df_works[\"source_id\"] = df_works[\"source_id\"].fillna(\"unknown source\")\n",
    "df_works[\"source_name\"] = df_works[\"source_name\"].fillna(\"unknown source\")"
   ]
  },
  {
   "cell_type": "markdown",
   "metadata": {},
   "source": [
    "### Aggregate Data Analysis\n",
    "\n",
    "Here, we create a dataframe that summarizes our institution's citation rates by Open Access type (e.g. Gold, Bronze, Green, etc.).\n",
    "\n",
    "In this case, both Gold and Hybrid OA publications are cited at a significantly higher rate than Closed access publications. This suggests that publishing in these types of open access journals could increase the influence of your work.  "
   ]
  },
  {
   "cell_type": "code",
   "execution_count": 26,
   "metadata": {},
   "outputs": [
    {
     "data": {
      "application/vnd.microsoft.datawrangler.viewer.v0+json": {
       "columns": [
        {
         "name": "oa_status",
         "rawType": "object",
         "type": "string"
        },
        {
         "name": "count",
         "rawType": "int64",
         "type": "integer"
        },
        {
         "name": "total_citation",
         "rawType": "int64",
         "type": "integer"
        },
        {
         "name": "citation_rate",
         "rawType": "float64",
         "type": "float"
        }
       ],
       "conversionMethod": "pd.DataFrame",
       "ref": "16939302-b1ea-4ae1-8b5b-995e6dc4bb6b",
       "rows": [
        [
         "bronze",
         "245",
         "376",
         "1.5346938775510204"
        ],
        [
         "closed",
         "2960",
         "3741",
         "1.2638513513513514"
        ],
        [
         "diamond",
         "247",
         "270",
         "1.0931174089068827"
        ],
        [
         "gold",
         "1751",
         "2501",
         "1.428326670474015"
        ],
        [
         "green",
         "664",
         "591",
         "0.8900602409638554"
        ],
        [
         "hybrid",
         "1412",
         "3021",
         "2.1395184135977336"
        ]
       ],
       "shape": {
        "columns": 3,
        "rows": 6
       }
      },
      "text/html": [
       "<div>\n",
       "<style scoped>\n",
       "    .dataframe tbody tr th:only-of-type {\n",
       "        vertical-align: middle;\n",
       "    }\n",
       "\n",
       "    .dataframe tbody tr th {\n",
       "        vertical-align: top;\n",
       "    }\n",
       "\n",
       "    .dataframe thead th {\n",
       "        text-align: right;\n",
       "    }\n",
       "</style>\n",
       "<table border=\"1\" class=\"dataframe\">\n",
       "  <thead>\n",
       "    <tr style=\"text-align: right;\">\n",
       "      <th></th>\n",
       "      <th>count</th>\n",
       "      <th>total_citation</th>\n",
       "      <th>citation_rate</th>\n",
       "    </tr>\n",
       "    <tr>\n",
       "      <th>oa_status</th>\n",
       "      <th></th>\n",
       "      <th></th>\n",
       "      <th></th>\n",
       "    </tr>\n",
       "  </thead>\n",
       "  <tbody>\n",
       "    <tr>\n",
       "      <th>bronze</th>\n",
       "      <td>245</td>\n",
       "      <td>376</td>\n",
       "      <td>1.534694</td>\n",
       "    </tr>\n",
       "    <tr>\n",
       "      <th>closed</th>\n",
       "      <td>2960</td>\n",
       "      <td>3741</td>\n",
       "      <td>1.263851</td>\n",
       "    </tr>\n",
       "    <tr>\n",
       "      <th>diamond</th>\n",
       "      <td>247</td>\n",
       "      <td>270</td>\n",
       "      <td>1.093117</td>\n",
       "    </tr>\n",
       "    <tr>\n",
       "      <th>gold</th>\n",
       "      <td>1751</td>\n",
       "      <td>2501</td>\n",
       "      <td>1.428327</td>\n",
       "    </tr>\n",
       "    <tr>\n",
       "      <th>green</th>\n",
       "      <td>664</td>\n",
       "      <td>591</td>\n",
       "      <td>0.890060</td>\n",
       "    </tr>\n",
       "    <tr>\n",
       "      <th>hybrid</th>\n",
       "      <td>1412</td>\n",
       "      <td>3021</td>\n",
       "      <td>2.139518</td>\n",
       "    </tr>\n",
       "  </tbody>\n",
       "</table>\n",
       "</div>"
      ],
      "text/plain": [
       "           count  total_citation  citation_rate\n",
       "oa_status                                      \n",
       "bronze       245             376       1.534694\n",
       "closed      2960            3741       1.263851\n",
       "diamond      247             270       1.093117\n",
       "gold        1751            2501       1.428327\n",
       "green        664             591       0.890060\n",
       "hybrid      1412            3021       2.139518"
      ]
     },
     "execution_count": 26,
     "metadata": {},
     "output_type": "execute_result"
    }
   ],
   "source": [
    "# group the dataframe by 'oa_status' and aggregate the 'id' column by count and 'total_citation' column by sum\n",
    "df_oa = df_works.groupby([\"oa_status\"]).agg({\"id\": \"count\", \"total_citation\": \"sum\"})\n",
    "\n",
    "# rename the 'id' column to 'count'\n",
    "df_oa.rename(columns={\"id\": \"count\"}, inplace=True)\n",
    "\n",
    "# calculate the citation rate by dividing 'total_citation' by 'id' and add it as a new column\n",
    "df_oa[\"citation_rate\"] = df_oa[\"total_citation\"] / df_oa[\"count\"]\n",
    "\n",
    "df_oa"
   ]
  },
  {
   "cell_type": "code",
   "execution_count": 27,
   "metadata": {},
   "outputs": [],
   "source": [
    "# group the dataframe by 'oa_status' and count the number of occurrences of each 'oa_status'\n",
    "df_oa = df_works.groupby([\"source_id\", \"source_name\", \"oa_status\"]).agg({\"id\": \"count\"})\n",
    "\n",
    "# reset the index to have 'source_name' and 'oa_status' as columns\n",
    "df_oa = df_oa.reset_index()\n",
    "\n",
    "# pivot the dataframe to have 'source_name' as index, 'oa_status' as columns and count as values\n",
    "df_oa = df_oa.pivot(index=\"source_name\", columns=\"oa_status\", values=\"id\")"
   ]
  },
  {
   "cell_type": "code",
   "execution_count": 28,
   "metadata": {},
   "outputs": [
    {
     "data": {
      "application/vnd.microsoft.datawrangler.viewer.v0+json": {
       "columns": [
        {
         "name": "source_name",
         "rawType": "object",
         "type": "string"
        },
        {
         "name": "bronze",
         "rawType": "float64",
         "type": "float"
        },
        {
         "name": "closed",
         "rawType": "float64",
         "type": "float"
        },
        {
         "name": "diamond",
         "rawType": "float64",
         "type": "float"
        },
        {
         "name": "gold",
         "rawType": "float64",
         "type": "float"
        },
        {
         "name": "green",
         "rawType": "float64",
         "type": "float"
        },
        {
         "name": "hybrid",
         "rawType": "float64",
         "type": "float"
        }
       ],
       "conversionMethod": "pd.DataFrame",
       "ref": "0fb6e389-72ea-4eab-aa77-706f4549bae2",
       "rows": [
        [
         "2021 IEEE 94th Vehicular Technology Conference (VTC2021-Fall)",
         null,
         "1.0",
         null,
         null,
         null,
         null
        ],
        [
         "2021 IEEE Asia-Pacific Microwave Conference (APMC)",
         null,
         "1.0",
         null,
         null,
         null,
         null
        ],
        [
         "2021 IEEE International Conference on Big Data (Big Data)",
         null,
         null,
         null,
         null,
         "1.0",
         null
        ],
        [
         "2022 11th International Conference on Control, Automation and Information Sciences (ICCAIS)",
         null,
         "1.0",
         null,
         null,
         null,
         null
        ],
        [
         "2022 16th European Conference on Antennas and Propagation (EuCAP)",
         null,
         "1.0",
         null,
         null,
         null,
         null
        ],
        [
         "2022 25th Euromicro Conference on Digital System Design (DSD)",
         null,
         "2.0",
         null,
         null,
         null,
         null
        ],
        [
         "2022 25th International Conference on Information Fusion (FUSION)",
         null,
         "1.0",
         null,
         null,
         null,
         null
        ],
        [
         "2022 American Control Conference (ACC)",
         null,
         "3.0",
         null,
         null,
         null,
         null
        ],
        [
         "2022 IEEE 38th International Conference on Data Engineering (ICDE)",
         null,
         null,
         null,
         null,
         "1.0",
         null
        ],
        [
         "2022 IEEE 46th Annual Computers, Software, and Applications Conference (COMPSAC)",
         null,
         "1.0",
         null,
         null,
         null,
         null
        ],
        [
         "2022 IEEE Applied Power Electronics Conference and Exposition (APEC)",
         null,
         "3.0",
         null,
         null,
         null,
         null
        ],
        [
         "2022 IEEE Energy Conversion Congress and Exposition (ECCE)",
         null,
         "4.0",
         null,
         null,
         null,
         null
        ],
        [
         "2022 IEEE Intelligent Vehicles Symposium (IV)",
         null,
         null,
         null,
         null,
         "1.0",
         null
        ],
        [
         "2022 IEEE International Conference on Image Processing (ICIP)",
         null,
         "1.0",
         null,
         null,
         null,
         null
        ],
        [
         "2022 IEEE International Conference on Industrial Technology (ICIT)",
         null,
         "1.0",
         null,
         null,
         null,
         null
        ],
        [
         "2022 IEEE International Symposium on Information Theory (ISIT)",
         null,
         "6.0",
         null,
         null,
         "2.0",
         null
        ],
        [
         "2022 IEEE MTT-S International Microwave Biomedical Conference (IMBioC)",
         null,
         "2.0",
         null,
         null,
         null,
         null
        ],
        [
         "2022 IEEE Transportation Electrification Conference and Expo, Asia-Pacific (ITEC Asia-Pacific)",
         null,
         "1.0",
         null,
         null,
         null,
         null
        ],
        [
         "2022 IEEE Wireless Communications and Networking Conference (WCNC)",
         null,
         "1.0",
         null,
         null,
         null,
         null
        ],
        [
         "2022 IEEE/CVF Conference on Computer Vision and Pattern Recognition (CVPR)",
         null,
         "1.0",
         null,
         null,
         null,
         null
        ],
        [
         "2022 IEEE/CVF Conference on Computer Vision and Pattern Recognition Workshops (CVPRW)",
         null,
         "3.0",
         null,
         null,
         null,
         null
        ],
        [
         "2022 International Conference on Electrical Machines (ICEM)",
         null,
         "1.0",
         null,
         null,
         null,
         null
        ],
        [
         "2022 Photonics North (PN)",
         null,
         "5.0",
         null,
         null,
         null,
         null
        ],
        [
         "2023 IEEE International Conference on Consumer Electronics (ICCE)",
         null,
         "2.0",
         null,
         null,
         null,
         null
        ],
        [
         "A Nudge Too Far? A Nudge at All? On Paying People to Be Healthy",
         null,
         "1.0",
         null,
         null,
         null,
         null
        ],
        [
         "A&A Practice",
         null,
         null,
         null,
         null,
         null,
         "1.0"
        ],
        [
         "ACM Transactions on Social Computing",
         null,
         "1.0",
         null,
         null,
         null,
         null
        ],
        [
         "ACR Open Rheumatology",
         null,
         null,
         null,
         "3.0",
         null,
         null
        ],
        [
         "ACS Applied Bio Materials",
         null,
         "1.0",
         null,
         null,
         null,
         null
        ],
        [
         "ACS Applied Energy Materials",
         null,
         "2.0",
         null,
         null,
         null,
         null
        ],
        [
         "ACS Applied Materials & Interfaces",
         null,
         "3.0",
         null,
         null,
         null,
         "2.0"
        ],
        [
         "ACS Applied Nano Materials",
         null,
         "3.0",
         null,
         null,
         null,
         null
        ],
        [
         "ACS Applied Polymer Materials",
         null,
         "1.0",
         null,
         null,
         null,
         "1.0"
        ],
        [
         "ACS Biomaterials Science & Engineering",
         null,
         "3.0",
         null,
         null,
         null,
         null
        ],
        [
         "ACS Catalysis",
         null,
         "2.0",
         null,
         null,
         null,
         null
        ],
        [
         "ACS Chemical Biology",
         null,
         "2.0",
         null,
         null,
         null,
         null
        ],
        [
         "ACS ES&T Engineering",
         null,
         "1.0",
         null,
         null,
         null,
         null
        ],
        [
         "ACS ES&T Water",
         null,
         "2.0",
         null,
         null,
         null,
         null
        ],
        [
         "ACS Earth and Space Chemistry",
         null,
         "1.0",
         null,
         null,
         null,
         null
        ],
        [
         "ACS Energy Letters",
         null,
         "1.0",
         null,
         null,
         null,
         null
        ],
        [
         "ACS Infectious Diseases",
         null,
         "1.0",
         null,
         null,
         null,
         null
        ],
        [
         "ACS Nano",
         null,
         "3.0",
         null,
         null,
         "1.0",
         null
        ],
        [
         "ACS Omega",
         null,
         null,
         null,
         "3.0",
         null,
         null
        ],
        [
         "ACS Sensors",
         null,
         "1.0",
         null,
         null,
         null,
         null
        ],
        [
         "ACS Sustainable Resource Management",
         null,
         "3.0",
         null,
         null,
         null,
         null
        ],
        [
         "ACTA SCIENTIFIC MICROBIOLOGY",
         null,
         null,
         null,
         "1.0",
         null,
         null
        ],
        [
         "AEM Education and Training",
         null,
         "1.0",
         null,
         null,
         null,
         "3.0"
        ],
        [
         "AIChE Journal",
         null,
         null,
         null,
         null,
         null,
         "1.0"
        ],
        [
         "AIDS",
         null,
         null,
         null,
         null,
         "2.0",
         null
        ],
        [
         "AIDS Care",
         null,
         null,
         null,
         null,
         null,
         "1.0"
        ]
       ],
       "shape": {
        "columns": 6,
        "rows": 2547
       }
      },
      "text/html": [
       "<div>\n",
       "<style scoped>\n",
       "    .dataframe tbody tr th:only-of-type {\n",
       "        vertical-align: middle;\n",
       "    }\n",
       "\n",
       "    .dataframe tbody tr th {\n",
       "        vertical-align: top;\n",
       "    }\n",
       "\n",
       "    .dataframe thead th {\n",
       "        text-align: right;\n",
       "    }\n",
       "</style>\n",
       "<table border=\"1\" class=\"dataframe\">\n",
       "  <thead>\n",
       "    <tr style=\"text-align: right;\">\n",
       "      <th>oa_status</th>\n",
       "      <th>bronze</th>\n",
       "      <th>closed</th>\n",
       "      <th>diamond</th>\n",
       "      <th>gold</th>\n",
       "      <th>green</th>\n",
       "      <th>hybrid</th>\n",
       "    </tr>\n",
       "    <tr>\n",
       "      <th>source_name</th>\n",
       "      <th></th>\n",
       "      <th></th>\n",
       "      <th></th>\n",
       "      <th></th>\n",
       "      <th></th>\n",
       "      <th></th>\n",
       "    </tr>\n",
       "  </thead>\n",
       "  <tbody>\n",
       "    <tr>\n",
       "      <th>2021 IEEE 94th Vehicular Technology Conference (VTC2021-Fall)</th>\n",
       "      <td>NaN</td>\n",
       "      <td>1.0</td>\n",
       "      <td>NaN</td>\n",
       "      <td>NaN</td>\n",
       "      <td>NaN</td>\n",
       "      <td>NaN</td>\n",
       "    </tr>\n",
       "    <tr>\n",
       "      <th>2021 IEEE Asia-Pacific Microwave Conference (APMC)</th>\n",
       "      <td>NaN</td>\n",
       "      <td>1.0</td>\n",
       "      <td>NaN</td>\n",
       "      <td>NaN</td>\n",
       "      <td>NaN</td>\n",
       "      <td>NaN</td>\n",
       "    </tr>\n",
       "    <tr>\n",
       "      <th>2021 IEEE International Conference on Big Data (Big Data)</th>\n",
       "      <td>NaN</td>\n",
       "      <td>NaN</td>\n",
       "      <td>NaN</td>\n",
       "      <td>NaN</td>\n",
       "      <td>1.0</td>\n",
       "      <td>NaN</td>\n",
       "    </tr>\n",
       "    <tr>\n",
       "      <th>2022 11th International Conference on Control, Automation and Information Sciences (ICCAIS)</th>\n",
       "      <td>NaN</td>\n",
       "      <td>1.0</td>\n",
       "      <td>NaN</td>\n",
       "      <td>NaN</td>\n",
       "      <td>NaN</td>\n",
       "      <td>NaN</td>\n",
       "    </tr>\n",
       "    <tr>\n",
       "      <th>2022 16th European Conference on Antennas and Propagation (EuCAP)</th>\n",
       "      <td>NaN</td>\n",
       "      <td>1.0</td>\n",
       "      <td>NaN</td>\n",
       "      <td>NaN</td>\n",
       "      <td>NaN</td>\n",
       "      <td>NaN</td>\n",
       "    </tr>\n",
       "    <tr>\n",
       "      <th>...</th>\n",
       "      <td>...</td>\n",
       "      <td>...</td>\n",
       "      <td>...</td>\n",
       "      <td>...</td>\n",
       "      <td>...</td>\n",
       "      <td>...</td>\n",
       "    </tr>\n",
       "    <tr>\n",
       "      <th>unknown source</th>\n",
       "      <td>53.0</td>\n",
       "      <td>216.0</td>\n",
       "      <td>NaN</td>\n",
       "      <td>4.0</td>\n",
       "      <td>245.0</td>\n",
       "      <td>22.0</td>\n",
       "    </tr>\n",
       "    <tr>\n",
       "      <th>The journal of academic science.</th>\n",
       "      <td>NaN</td>\n",
       "      <td>NaN</td>\n",
       "      <td>NaN</td>\n",
       "      <td>NaN</td>\n",
       "      <td>NaN</td>\n",
       "      <td>1.0</td>\n",
       "    </tr>\n",
       "    <tr>\n",
       "      <th>The minerals, metals &amp; materials series</th>\n",
       "      <td>NaN</td>\n",
       "      <td>1.0</td>\n",
       "      <td>NaN</td>\n",
       "      <td>NaN</td>\n",
       "      <td>NaN</td>\n",
       "      <td>NaN</td>\n",
       "    </tr>\n",
       "    <tr>\n",
       "      <th>Биологические мембраны Журнал мембранной и клеточной биологии</th>\n",
       "      <td>NaN</td>\n",
       "      <td>1.0</td>\n",
       "      <td>NaN</td>\n",
       "      <td>NaN</td>\n",
       "      <td>NaN</td>\n",
       "      <td>NaN</td>\n",
       "    </tr>\n",
       "    <tr>\n",
       "      <th>КАРДИОЛОГИЯ УЗБЕКИСТАНА</th>\n",
       "      <td>NaN</td>\n",
       "      <td>1.0</td>\n",
       "      <td>NaN</td>\n",
       "      <td>NaN</td>\n",
       "      <td>NaN</td>\n",
       "      <td>2.0</td>\n",
       "    </tr>\n",
       "  </tbody>\n",
       "</table>\n",
       "<p>2547 rows × 6 columns</p>\n",
       "</div>"
      ],
      "text/plain": [
       "oa_status                                           bronze  closed  diamond  \\\n",
       "source_name                                                                   \n",
       "2021 IEEE 94th Vehicular Technology Conference ...     NaN     1.0      NaN   \n",
       "2021 IEEE Asia-Pacific Microwave Conference (APMC)     NaN     1.0      NaN   \n",
       "2021 IEEE International Conference on Big Data ...     NaN     NaN      NaN   \n",
       "2022 11th International Conference on Control, ...     NaN     1.0      NaN   \n",
       "2022 16th European Conference on Antennas and P...     NaN     1.0      NaN   \n",
       "...                                                    ...     ...      ...   \n",
       "unknown source                                        53.0   216.0      NaN   \n",
       "The journal of academic science.                     NaN     NaN      NaN   \n",
       "The minerals, metals & materials series              NaN     1.0      NaN   \n",
       "Биологические мембраны Журнал мембранной и клет...     NaN     1.0      NaN   \n",
       "КАРДИОЛОГИЯ УЗБЕКИСТАНА                                NaN     1.0      NaN   \n",
       "\n",
       "oa_status                                           gold  green  hybrid  \n",
       "source_name                                                              \n",
       "2021 IEEE 94th Vehicular Technology Conference ...   NaN    NaN     NaN  \n",
       "2021 IEEE Asia-Pacific Microwave Conference (APMC)   NaN    NaN     NaN  \n",
       "2021 IEEE International Conference on Big Data ...   NaN    1.0     NaN  \n",
       "2022 11th International Conference on Control, ...   NaN    NaN     NaN  \n",
       "2022 16th European Conference on Antennas and P...   NaN    NaN     NaN  \n",
       "...                                                  ...    ...     ...  \n",
       "unknown source                                       4.0  245.0    22.0  \n",
       "The journal of academic science.                   NaN    NaN     1.0  \n",
       "The minerals, metals & materials series            NaN    NaN     NaN  \n",
       "Биологические мембраны Журнал мембранной и клет...   NaN    NaN     NaN  \n",
       "КАРДИОЛОГИЯ УЗБЕКИСТАНА                              NaN    NaN     2.0  \n",
       "\n",
       "[2547 rows x 6 columns]"
      ]
     },
     "execution_count": 28,
     "metadata": {},
     "output_type": "execute_result"
    }
   ],
   "source": [
    "if SAVE_CSV:\n",
    "    df_oa.to_csv(f\"institution_works_oa_{publication_year}.csv\", index=True)\n",
    "\n",
    "df_oa"
   ]
  },
  {
   "cell_type": "markdown",
   "metadata": {},
   "source": [
    "### Identifying our institution's most popular publication sources (by open access status)"
   ]
  },
  {
   "cell_type": "markdown",
   "metadata": {},
   "source": [
    "#### Gold Open Access"
   ]
  },
  {
   "cell_type": "code",
   "execution_count": 29,
   "metadata": {},
   "outputs": [
    {
     "data": {
      "application/vnd.microsoft.datawrangler.viewer.v0+json": {
       "columns": [
        {
         "name": "source_name",
         "rawType": "object",
         "type": "string"
        },
        {
         "name": "bronze",
         "rawType": "float64",
         "type": "float"
        },
        {
         "name": "closed",
         "rawType": "float64",
         "type": "float"
        },
        {
         "name": "diamond",
         "rawType": "float64",
         "type": "float"
        },
        {
         "name": "gold",
         "rawType": "float64",
         "type": "float"
        },
        {
         "name": "green",
         "rawType": "float64",
         "type": "float"
        },
        {
         "name": "hybrid",
         "rawType": "float64",
         "type": "float"
        }
       ],
       "conversionMethod": "pd.DataFrame",
       "ref": "2ea90f38-934d-4dde-8e9d-75e1b3a44ce9",
       "rows": [
        [
         "PLoS ONE",
         null,
         null,
         null,
         "111.0",
         null,
         null
        ],
        [
         "Journal of the Canadian Association of Gastroenterology",
         null,
         null,
         null,
         "49.0",
         null,
         null
        ],
        [
         "BMJ Open",
         null,
         null,
         null,
         "49.0",
         null,
         null
        ],
        [
         "Scientific Reports",
         null,
         null,
         null,
         "40.0",
         null,
         null
        ],
        [
         "JAMA Network Open",
         null,
         null,
         null,
         "29.0",
         null,
         null
        ]
       ],
       "shape": {
        "columns": 6,
        "rows": 5
       }
      },
      "text/html": [
       "<div>\n",
       "<style scoped>\n",
       "    .dataframe tbody tr th:only-of-type {\n",
       "        vertical-align: middle;\n",
       "    }\n",
       "\n",
       "    .dataframe tbody tr th {\n",
       "        vertical-align: top;\n",
       "    }\n",
       "\n",
       "    .dataframe thead th {\n",
       "        text-align: right;\n",
       "    }\n",
       "</style>\n",
       "<table border=\"1\" class=\"dataframe\">\n",
       "  <thead>\n",
       "    <tr style=\"text-align: right;\">\n",
       "      <th>oa_status</th>\n",
       "      <th>bronze</th>\n",
       "      <th>closed</th>\n",
       "      <th>diamond</th>\n",
       "      <th>gold</th>\n",
       "      <th>green</th>\n",
       "      <th>hybrid</th>\n",
       "    </tr>\n",
       "    <tr>\n",
       "      <th>source_name</th>\n",
       "      <th></th>\n",
       "      <th></th>\n",
       "      <th></th>\n",
       "      <th></th>\n",
       "      <th></th>\n",
       "      <th></th>\n",
       "    </tr>\n",
       "  </thead>\n",
       "  <tbody>\n",
       "    <tr>\n",
       "      <th>PLoS ONE</th>\n",
       "      <td>NaN</td>\n",
       "      <td>NaN</td>\n",
       "      <td>NaN</td>\n",
       "      <td>111.0</td>\n",
       "      <td>NaN</td>\n",
       "      <td>NaN</td>\n",
       "    </tr>\n",
       "    <tr>\n",
       "      <th>Journal of the Canadian Association of Gastroenterology</th>\n",
       "      <td>NaN</td>\n",
       "      <td>NaN</td>\n",
       "      <td>NaN</td>\n",
       "      <td>49.0</td>\n",
       "      <td>NaN</td>\n",
       "      <td>NaN</td>\n",
       "    </tr>\n",
       "    <tr>\n",
       "      <th>BMJ Open</th>\n",
       "      <td>NaN</td>\n",
       "      <td>NaN</td>\n",
       "      <td>NaN</td>\n",
       "      <td>49.0</td>\n",
       "      <td>NaN</td>\n",
       "      <td>NaN</td>\n",
       "    </tr>\n",
       "    <tr>\n",
       "      <th>Scientific Reports</th>\n",
       "      <td>NaN</td>\n",
       "      <td>NaN</td>\n",
       "      <td>NaN</td>\n",
       "      <td>40.0</td>\n",
       "      <td>NaN</td>\n",
       "      <td>NaN</td>\n",
       "    </tr>\n",
       "    <tr>\n",
       "      <th>JAMA Network Open</th>\n",
       "      <td>NaN</td>\n",
       "      <td>NaN</td>\n",
       "      <td>NaN</td>\n",
       "      <td>29.0</td>\n",
       "      <td>NaN</td>\n",
       "      <td>NaN</td>\n",
       "    </tr>\n",
       "  </tbody>\n",
       "</table>\n",
       "</div>"
      ],
      "text/plain": [
       "oa_status                                           bronze  closed  diamond  \\\n",
       "source_name                                                                   \n",
       "PLoS ONE                                               NaN     NaN      NaN   \n",
       "Journal of the Canadian Association of Gastroen...     NaN     NaN      NaN   \n",
       "BMJ Open                                               NaN     NaN      NaN   \n",
       "Scientific Reports                                     NaN     NaN      NaN   \n",
       "JAMA Network Open                                      NaN     NaN      NaN   \n",
       "\n",
       "oa_status                                            gold  green  hybrid  \n",
       "source_name                                                               \n",
       "PLoS ONE                                            111.0    NaN     NaN  \n",
       "Journal of the Canadian Association of Gastroen...   49.0    NaN     NaN  \n",
       "BMJ Open                                             49.0    NaN     NaN  \n",
       "Scientific Reports                                   40.0    NaN     NaN  \n",
       "JAMA Network Open                                    29.0    NaN     NaN  "
      ]
     },
     "execution_count": 29,
     "metadata": {},
     "output_type": "execute_result"
    }
   ],
   "source": [
    "# top 5 publications with most 'gold' 'oa_status'\n",
    "df_oa[df_oa.index != \"unknown source\"].sort_values(\"gold\", ascending=False).head()"
   ]
  },
  {
   "cell_type": "markdown",
   "metadata": {},
   "source": [
    "#### Diamond Open Access"
   ]
  },
  {
   "cell_type": "code",
   "execution_count": 30,
   "metadata": {},
   "outputs": [
    {
     "data": {
      "application/vnd.microsoft.datawrangler.viewer.v0+json": {
       "columns": [
        {
         "name": "source_name",
         "rawType": "object",
         "type": "string"
        },
        {
         "name": "bronze",
         "rawType": "float64",
         "type": "float"
        },
        {
         "name": "closed",
         "rawType": "float64",
         "type": "float"
        },
        {
         "name": "diamond",
         "rawType": "float64",
         "type": "float"
        },
        {
         "name": "gold",
         "rawType": "float64",
         "type": "float"
        },
        {
         "name": "green",
         "rawType": "float64",
         "type": "float"
        },
        {
         "name": "hybrid",
         "rawType": "float64",
         "type": "float"
        }
       ],
       "conversionMethod": "pd.DataFrame",
       "ref": "3810d003-32e8-4f93-8e65-704dc27a57da",
       "rows": [
        [
         "Genetics in Medicine Open",
         null,
         null,
         "9.0",
         null,
         null,
         null
        ],
        [
         "Canadian Medical Education Journal",
         null,
         null,
         "8.0",
         null,
         null,
         null
        ],
        [
         "Campbell Systematic Reviews",
         null,
         null,
         "6.0",
         null,
         null,
         null
        ],
        [
         "Studies in Social Justice",
         null,
         null,
         "6.0",
         null,
         null,
         null
        ],
        [
         "Frontiers in Health Services",
         null,
         null,
         "5.0",
         null,
         null,
         null
        ]
       ],
       "shape": {
        "columns": 6,
        "rows": 5
       }
      },
      "text/html": [
       "<div>\n",
       "<style scoped>\n",
       "    .dataframe tbody tr th:only-of-type {\n",
       "        vertical-align: middle;\n",
       "    }\n",
       "\n",
       "    .dataframe tbody tr th {\n",
       "        vertical-align: top;\n",
       "    }\n",
       "\n",
       "    .dataframe thead th {\n",
       "        text-align: right;\n",
       "    }\n",
       "</style>\n",
       "<table border=\"1\" class=\"dataframe\">\n",
       "  <thead>\n",
       "    <tr style=\"text-align: right;\">\n",
       "      <th>oa_status</th>\n",
       "      <th>bronze</th>\n",
       "      <th>closed</th>\n",
       "      <th>diamond</th>\n",
       "      <th>gold</th>\n",
       "      <th>green</th>\n",
       "      <th>hybrid</th>\n",
       "    </tr>\n",
       "    <tr>\n",
       "      <th>source_name</th>\n",
       "      <th></th>\n",
       "      <th></th>\n",
       "      <th></th>\n",
       "      <th></th>\n",
       "      <th></th>\n",
       "      <th></th>\n",
       "    </tr>\n",
       "  </thead>\n",
       "  <tbody>\n",
       "    <tr>\n",
       "      <th>Genetics in Medicine Open</th>\n",
       "      <td>NaN</td>\n",
       "      <td>NaN</td>\n",
       "      <td>9.0</td>\n",
       "      <td>NaN</td>\n",
       "      <td>NaN</td>\n",
       "      <td>NaN</td>\n",
       "    </tr>\n",
       "    <tr>\n",
       "      <th>Canadian Medical Education Journal</th>\n",
       "      <td>NaN</td>\n",
       "      <td>NaN</td>\n",
       "      <td>8.0</td>\n",
       "      <td>NaN</td>\n",
       "      <td>NaN</td>\n",
       "      <td>NaN</td>\n",
       "    </tr>\n",
       "    <tr>\n",
       "      <th>Campbell Systematic Reviews</th>\n",
       "      <td>NaN</td>\n",
       "      <td>NaN</td>\n",
       "      <td>6.0</td>\n",
       "      <td>NaN</td>\n",
       "      <td>NaN</td>\n",
       "      <td>NaN</td>\n",
       "    </tr>\n",
       "    <tr>\n",
       "      <th>Studies in Social Justice</th>\n",
       "      <td>NaN</td>\n",
       "      <td>NaN</td>\n",
       "      <td>6.0</td>\n",
       "      <td>NaN</td>\n",
       "      <td>NaN</td>\n",
       "      <td>NaN</td>\n",
       "    </tr>\n",
       "    <tr>\n",
       "      <th>Frontiers in Health Services</th>\n",
       "      <td>NaN</td>\n",
       "      <td>NaN</td>\n",
       "      <td>5.0</td>\n",
       "      <td>NaN</td>\n",
       "      <td>NaN</td>\n",
       "      <td>NaN</td>\n",
       "    </tr>\n",
       "  </tbody>\n",
       "</table>\n",
       "</div>"
      ],
      "text/plain": [
       "oa_status                           bronze  closed  diamond  gold  green  \\\n",
       "source_name                                                                \n",
       "Genetics in Medicine Open              NaN     NaN      9.0   NaN    NaN   \n",
       "Canadian Medical Education Journal     NaN     NaN      8.0   NaN    NaN   \n",
       "Campbell Systematic Reviews            NaN     NaN      6.0   NaN    NaN   \n",
       "Studies in Social Justice              NaN     NaN      6.0   NaN    NaN   \n",
       "Frontiers in Health Services           NaN     NaN      5.0   NaN    NaN   \n",
       "\n",
       "oa_status                           hybrid  \n",
       "source_name                                 \n",
       "Genetics in Medicine Open              NaN  \n",
       "Canadian Medical Education Journal     NaN  \n",
       "Campbell Systematic Reviews            NaN  \n",
       "Studies in Social Justice              NaN  \n",
       "Frontiers in Health Services           NaN  "
      ]
     },
     "execution_count": 30,
     "metadata": {},
     "output_type": "execute_result"
    }
   ],
   "source": [
    "# top 5 publications with most 'diamond' 'oa_status'\n",
    "df_oa[df_oa.index != \"unknown source\"].sort_values(\"diamond\", ascending=False).head()"
   ]
  },
  {
   "cell_type": "markdown",
   "metadata": {},
   "source": [
    "#### Closed Access"
   ]
  },
  {
   "cell_type": "code",
   "execution_count": 31,
   "metadata": {},
   "outputs": [
    {
     "data": {
      "application/vnd.microsoft.datawrangler.viewer.v0+json": {
       "columns": [
        {
         "name": "source_name",
         "rawType": "object",
         "type": "string"
        },
        {
         "name": "bronze",
         "rawType": "float64",
         "type": "float"
        },
        {
         "name": "closed",
         "rawType": "float64",
         "type": "float"
        },
        {
         "name": "diamond",
         "rawType": "float64",
         "type": "float"
        },
        {
         "name": "gold",
         "rawType": "float64",
         "type": "float"
        },
        {
         "name": "green",
         "rawType": "float64",
         "type": "float"
        },
        {
         "name": "hybrid",
         "rawType": "float64",
         "type": "float"
        }
       ],
       "conversionMethod": "pd.DataFrame",
       "ref": "f1e9bcfd-35e3-4636-bcc0-d9b782d026aa",
       "rows": [
        [
         "Blood",
         "1.0",
         "60.0",
         null,
         null,
         null,
         "1.0"
        ],
        [
         "Journal of Clinical Oncology",
         null,
         "37.0",
         null,
         null,
         "1.0",
         "1.0"
        ],
        [
         "Journal of Obstetrics and Gynaecology Canada",
         "2.0",
         "30.0",
         null,
         null,
         null,
         "6.0"
        ],
        [
         "Springer eBooks",
         null,
         "28.0",
         null,
         null,
         null,
         null
        ],
        [
         "Elsevier eBooks",
         null,
         "25.0",
         null,
         null,
         null,
         null
        ]
       ],
       "shape": {
        "columns": 6,
        "rows": 5
       }
      },
      "text/html": [
       "<div>\n",
       "<style scoped>\n",
       "    .dataframe tbody tr th:only-of-type {\n",
       "        vertical-align: middle;\n",
       "    }\n",
       "\n",
       "    .dataframe tbody tr th {\n",
       "        vertical-align: top;\n",
       "    }\n",
       "\n",
       "    .dataframe thead th {\n",
       "        text-align: right;\n",
       "    }\n",
       "</style>\n",
       "<table border=\"1\" class=\"dataframe\">\n",
       "  <thead>\n",
       "    <tr style=\"text-align: right;\">\n",
       "      <th>oa_status</th>\n",
       "      <th>bronze</th>\n",
       "      <th>closed</th>\n",
       "      <th>diamond</th>\n",
       "      <th>gold</th>\n",
       "      <th>green</th>\n",
       "      <th>hybrid</th>\n",
       "    </tr>\n",
       "    <tr>\n",
       "      <th>source_name</th>\n",
       "      <th></th>\n",
       "      <th></th>\n",
       "      <th></th>\n",
       "      <th></th>\n",
       "      <th></th>\n",
       "      <th></th>\n",
       "    </tr>\n",
       "  </thead>\n",
       "  <tbody>\n",
       "    <tr>\n",
       "      <th>Blood</th>\n",
       "      <td>1.0</td>\n",
       "      <td>60.0</td>\n",
       "      <td>NaN</td>\n",
       "      <td>NaN</td>\n",
       "      <td>NaN</td>\n",
       "      <td>1.0</td>\n",
       "    </tr>\n",
       "    <tr>\n",
       "      <th>Journal of Clinical Oncology</th>\n",
       "      <td>NaN</td>\n",
       "      <td>37.0</td>\n",
       "      <td>NaN</td>\n",
       "      <td>NaN</td>\n",
       "      <td>1.0</td>\n",
       "      <td>1.0</td>\n",
       "    </tr>\n",
       "    <tr>\n",
       "      <th>Journal of Obstetrics and Gynaecology Canada</th>\n",
       "      <td>2.0</td>\n",
       "      <td>30.0</td>\n",
       "      <td>NaN</td>\n",
       "      <td>NaN</td>\n",
       "      <td>NaN</td>\n",
       "      <td>6.0</td>\n",
       "    </tr>\n",
       "    <tr>\n",
       "      <th>Springer eBooks</th>\n",
       "      <td>NaN</td>\n",
       "      <td>28.0</td>\n",
       "      <td>NaN</td>\n",
       "      <td>NaN</td>\n",
       "      <td>NaN</td>\n",
       "      <td>NaN</td>\n",
       "    </tr>\n",
       "    <tr>\n",
       "      <th>Elsevier eBooks</th>\n",
       "      <td>NaN</td>\n",
       "      <td>25.0</td>\n",
       "      <td>NaN</td>\n",
       "      <td>NaN</td>\n",
       "      <td>NaN</td>\n",
       "      <td>NaN</td>\n",
       "    </tr>\n",
       "  </tbody>\n",
       "</table>\n",
       "</div>"
      ],
      "text/plain": [
       "oa_status                                     bronze  closed  diamond  gold  \\\n",
       "source_name                                                                   \n",
       "Blood                                            1.0    60.0      NaN   NaN   \n",
       "Journal of Clinical Oncology                     NaN    37.0      NaN   NaN   \n",
       "Journal of Obstetrics and Gynaecology Canada     2.0    30.0      NaN   NaN   \n",
       "Springer eBooks                                  NaN    28.0      NaN   NaN   \n",
       "Elsevier eBooks                                  NaN    25.0      NaN   NaN   \n",
       "\n",
       "oa_status                                     green  hybrid  \n",
       "source_name                                                  \n",
       "Blood                                           NaN     1.0  \n",
       "Journal of Clinical Oncology                    1.0     1.0  \n",
       "Journal of Obstetrics and Gynaecology Canada    NaN     6.0  \n",
       "Springer eBooks                                 NaN     NaN  \n",
       "Elsevier eBooks                                 NaN     NaN  "
      ]
     },
     "execution_count": 31,
     "metadata": {},
     "output_type": "execute_result"
    }
   ],
   "source": [
    "# top 5 publications with most 'closed' 'oa_status'\n",
    "df_oa[df_oa.index != \"unknown source\"].sort_values(\"closed\", ascending=False).head()"
   ]
  }
 ],
 "metadata": {
  "kernelspec": {
   "display_name": "openalex",
   "language": "python",
   "name": "python3"
  },
  "language_info": {
   "codemirror_mode": {
    "name": "ipython",
    "version": 3
   },
   "file_extension": ".py",
   "mimetype": "text/x-python",
   "name": "python",
   "nbconvert_exporter": "python",
   "pygments_lexer": "ipython3",
   "version": "3.13.2"
  }
 },
 "nbformat": 4,
 "nbformat_minor": 2
}
